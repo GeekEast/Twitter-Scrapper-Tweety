{
 "cells": [
  {
   "cell_type": "code",
   "execution_count": 1,
   "metadata": {},
   "outputs": [],
   "source": [
    "from datetime import datetime\n",
    "import pandas as pd\n",
    "import numpy as np"
   ]
  },
  {
   "cell_type": "code",
   "execution_count": 2,
   "metadata": {},
   "outputs": [],
   "source": [
    "def cleanprice(file):\n",
    "    price=pd.read_csv(file)\n",
    "    price1=price[::-1]# revert the price\n",
    "    price1.index=range(2075)\n",
    "    price1['time']=pd.to_datetime(price1['time']) # conver string to datetime \n",
    "    price1.index=price1['time'] # set time as index\n",
    "    del price1['time']  # remove the time column \n",
    "    price2=price1.loc[datetime(2013,1,1):datetime(2018,8,28)] # select the required  data \n",
    "    price2.to_csv('bitcoinprice.csv') # save as csv"
   ]
  },
  {
   "cell_type": "code",
   "execution_count": 3,
   "metadata": {},
   "outputs": [],
   "source": [
    "def cleantrend(file):\n",
    "    hot_final= pd.read_csv(file)\n",
    "    hot_final['date']=pd.to_datetime(hot_final['date']) # conver string to datetime \n",
    "    hot_final.index=hot_final['date'] # set time as index\n",
    "    del hot_final['date']  # remove the time column \n",
    "    hot_final=hot_final.loc[datetime(2013,1,1):datetime(2018,8,28)] # select the required  data \n",
    "    hot_final.to_csv('hotissue.csv')# save as csv"
   ]
  },
  {
   "cell_type": "code",
   "execution_count": 5,
   "metadata": {},
   "outputs": [],
   "source": [
    "def cleanvolume(file):\n",
    "    pd.options.display.float_format = '{:20,.2f}'.format\n",
    "    # Load npy\n",
    "    results = np.load(file).item()\n",
    "    df = pd.DataFrame(list(results.items()), columns=['Date', 'Transaction Volume'], dtype=float) # creat the datafram\n",
    "    with pd.option_context('display.max_rows', None, 'display.max_columns', None):\n",
    "        df['Date']=pd.to_datetime(df['Date'])# conver string to datetime \n",
    "        df.index=df['Date']# set time as index\n",
    "        del df['Date'] # remove the time column \n",
    "        df_final=df.loc[datetime(2013,1,1):datetime(2018,8,28)]# select the required  data \n",
    "        df_final.to_csv('transaction.csv')# save as csv"
   ]
  },
  {
   "cell_type": "code",
   "execution_count": 7,
   "metadata": {},
   "outputs": [],
   "source": []
  },
  {
   "cell_type": "code",
   "execution_count": null,
   "metadata": {},
   "outputs": [],
   "source": []
  }
 ],
 "metadata": {
  "kernelspec": {
   "display_name": "Python 3",
   "language": "python",
   "name": "python3"
  },
  "language_info": {
   "codemirror_mode": {
    "name": "ipython",
    "version": 3
   },
   "file_extension": ".py",
   "mimetype": "text/x-python",
   "name": "python",
   "nbconvert_exporter": "python",
   "pygments_lexer": "ipython3",
   "version": "3.6.4"
  }
 },
 "nbformat": 4,
 "nbformat_minor": 2
}
